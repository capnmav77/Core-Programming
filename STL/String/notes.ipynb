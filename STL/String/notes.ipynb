{
 "cells": [
  {
   "cell_type": "markdown",
   "metadata": {},
   "source": [
    "the string can be converted to uppercase or lowercase by the use of upper() and lower() function respectively.\n",
    "\n",
    "i.e: \n",
    "\n",
    "transform(s.begin() , s.end() , s.begin() , tolower)\n",
    "or \n",
    "transform(s.begin() , s.end() , s.begin() , toupper)\n",
    "\n",
    "eg: s = \"helloWORLD\" \n",
    "    uppers = transform(s.begin() , s.end() , s.begin() , toupper)\n",
    "    lowers = transform(s.begin() , s.end() , s.begin() , tolower)\n",
    "\n",
    "    \n",
    "\n",
    "\n"
   ]
  },
  {
   "cell_type": "markdown",
   "metadata": {},
   "source": []
  }
 ],
 "metadata": {
  "kernelspec": {
   "display_name": "Python 3",
   "language": "python",
   "name": "python3"
  },
  "language_info": {
   "codemirror_mode": {
    "name": "ipython",
    "version": 3
   },
   "file_extension": ".py",
   "mimetype": "text/x-python",
   "name": "python",
   "nbconvert_exporter": "python",
   "pygments_lexer": "ipython3",
   "version": "3.10.11"
  }
 },
 "nbformat": 4,
 "nbformat_minor": 2
}
